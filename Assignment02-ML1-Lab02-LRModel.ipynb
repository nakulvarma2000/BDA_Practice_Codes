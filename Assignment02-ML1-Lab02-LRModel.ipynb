{
 "cells": [
  {
   "cell_type": "markdown",
   "id": "38737ab7",
   "metadata": {},
   "source": [
    "# SLR and MLR on Real Estate Dataset"
   ]
  },
  {
   "cell_type": "markdown",
   "id": "a1e106cb",
   "metadata": {},
   "source": [
    "## Nakul Ramesh Varma - 21BDA35"
   ]
  },
  {
   "cell_type": "markdown",
   "id": "3b32b973",
   "metadata": {},
   "source": [
    "### Import Packages"
   ]
  },
  {
   "cell_type": "code",
   "execution_count": 1,
   "id": "ac0c94b8",
   "metadata": {},
   "outputs": [],
   "source": [
    "import numpy as np\n",
    "import pandas as pd\n",
    "from sklearn import linear_model\n",
    "from sklearn.model_selection import train_test_split\n",
    "import matplotlib.pyplot as plt\n",
    "import seaborn as sns\n",
    "import statsmodels.api as sm\n",
    "sns.set(style = \"darkgrid\")\n",
    "sns.set(rc = {'figure.figsize':(11.7,8.27)})"
   ]
  },
  {
   "cell_type": "markdown",
   "id": "a32b037c",
   "metadata": {},
   "source": [
    "### Read Data"
   ]
  },
  {
   "cell_type": "code",
   "execution_count": 2,
   "id": "1a223f2b",
   "metadata": {},
   "outputs": [],
   "source": [
    "df = pd.read_csv(\"Real estate.csv\", index_col=0)"
   ]
  },
  {
   "cell_type": "code",
   "execution_count": 3,
   "id": "d6a1b073",
   "metadata": {},
   "outputs": [
    {
     "data": {
      "text/html": [
       "<div>\n",
       "<style scoped>\n",
       "    .dataframe tbody tr th:only-of-type {\n",
       "        vertical-align: middle;\n",
       "    }\n",
       "\n",
       "    .dataframe tbody tr th {\n",
       "        vertical-align: top;\n",
       "    }\n",
       "\n",
       "    .dataframe thead th {\n",
       "        text-align: right;\n",
       "    }\n",
       "</style>\n",
       "<table border=\"1\" class=\"dataframe\">\n",
       "  <thead>\n",
       "    <tr style=\"text-align: right;\">\n",
       "      <th></th>\n",
       "      <th>X1 transaction date</th>\n",
       "      <th>X2 house age</th>\n",
       "      <th>X3 distance to the nearest MRT station</th>\n",
       "      <th>X4 number of convenience stores</th>\n",
       "      <th>X5 latitude</th>\n",
       "      <th>X6 longitude</th>\n",
       "      <th>Y house price of unit area</th>\n",
       "    </tr>\n",
       "    <tr>\n",
       "      <th>No</th>\n",
       "      <th></th>\n",
       "      <th></th>\n",
       "      <th></th>\n",
       "      <th></th>\n",
       "      <th></th>\n",
       "      <th></th>\n",
       "      <th></th>\n",
       "    </tr>\n",
       "  </thead>\n",
       "  <tbody>\n",
       "    <tr>\n",
       "      <th>1</th>\n",
       "      <td>2012.917</td>\n",
       "      <td>32.0</td>\n",
       "      <td>84.87882</td>\n",
       "      <td>10</td>\n",
       "      <td>24.98298</td>\n",
       "      <td>121.54024</td>\n",
       "      <td>37.9</td>\n",
       "    </tr>\n",
       "    <tr>\n",
       "      <th>2</th>\n",
       "      <td>2012.917</td>\n",
       "      <td>19.5</td>\n",
       "      <td>306.59470</td>\n",
       "      <td>9</td>\n",
       "      <td>24.98034</td>\n",
       "      <td>121.53951</td>\n",
       "      <td>42.2</td>\n",
       "    </tr>\n",
       "    <tr>\n",
       "      <th>3</th>\n",
       "      <td>2013.583</td>\n",
       "      <td>13.3</td>\n",
       "      <td>561.98450</td>\n",
       "      <td>5</td>\n",
       "      <td>24.98746</td>\n",
       "      <td>121.54391</td>\n",
       "      <td>47.3</td>\n",
       "    </tr>\n",
       "    <tr>\n",
       "      <th>4</th>\n",
       "      <td>2013.500</td>\n",
       "      <td>13.3</td>\n",
       "      <td>561.98450</td>\n",
       "      <td>5</td>\n",
       "      <td>24.98746</td>\n",
       "      <td>121.54391</td>\n",
       "      <td>54.8</td>\n",
       "    </tr>\n",
       "    <tr>\n",
       "      <th>5</th>\n",
       "      <td>2012.833</td>\n",
       "      <td>5.0</td>\n",
       "      <td>390.56840</td>\n",
       "      <td>5</td>\n",
       "      <td>24.97937</td>\n",
       "      <td>121.54245</td>\n",
       "      <td>43.1</td>\n",
       "    </tr>\n",
       "  </tbody>\n",
       "</table>\n",
       "</div>"
      ],
      "text/plain": [
       "    X1 transaction date  X2 house age  X3 distance to the nearest MRT station  \\\n",
       "No                                                                              \n",
       "1              2012.917          32.0                                84.87882   \n",
       "2              2012.917          19.5                               306.59470   \n",
       "3              2013.583          13.3                               561.98450   \n",
       "4              2013.500          13.3                               561.98450   \n",
       "5              2012.833           5.0                               390.56840   \n",
       "\n",
       "    X4 number of convenience stores  X5 latitude  X6 longitude  \\\n",
       "No                                                               \n",
       "1                                10     24.98298     121.54024   \n",
       "2                                 9     24.98034     121.53951   \n",
       "3                                 5     24.98746     121.54391   \n",
       "4                                 5     24.98746     121.54391   \n",
       "5                                 5     24.97937     121.54245   \n",
       "\n",
       "    Y house price of unit area  \n",
       "No                              \n",
       "1                         37.9  \n",
       "2                         42.2  \n",
       "3                         47.3  \n",
       "4                         54.8  \n",
       "5                         43.1  "
      ]
     },
     "execution_count": 3,
     "metadata": {},
     "output_type": "execute_result"
    }
   ],
   "source": [
    "df.head()"
   ]
  },
  {
   "cell_type": "code",
   "execution_count": 4,
   "id": "757da6be",
   "metadata": {},
   "outputs": [],
   "source": [
    "df['X1 transaction date'] = df['X1 transaction date'].astype(int)"
   ]
  },
  {
   "cell_type": "markdown",
   "id": "1c083d32",
   "metadata": {},
   "source": [
    "## Simple Linear Regression"
   ]
  },
  {
   "cell_type": "markdown",
   "id": "108cd3d1",
   "metadata": {},
   "source": [
    "### Split data to X and y"
   ]
  },
  {
   "cell_type": "code",
   "execution_count": 5,
   "id": "338ad415",
   "metadata": {},
   "outputs": [],
   "source": [
    "X = df['X3 distance to the nearest MRT station']\n",
    "y = df['Y house price of unit area']"
   ]
  },
  {
   "cell_type": "code",
   "execution_count": 6,
   "id": "a74abe2d",
   "metadata": {},
   "outputs": [],
   "source": [
    "model = linear_model.LinearRegression()"
   ]
  },
  {
   "cell_type": "code",
   "execution_count": 7,
   "id": "a889d292",
   "metadata": {},
   "outputs": [
    {
     "data": {
      "text/plain": [
       "LinearRegression()"
      ]
     },
     "execution_count": 7,
     "metadata": {},
     "output_type": "execute_result"
    }
   ],
   "source": [
    "model.fit(np.array(X).reshape(-1,1),y)"
   ]
  },
  {
   "cell_type": "code",
   "execution_count": 8,
   "id": "8139c39d",
   "metadata": {},
   "outputs": [
    {
     "data": {
      "text/plain": [
       "45.851427057774984"
      ]
     },
     "execution_count": 8,
     "metadata": {},
     "output_type": "execute_result"
    }
   ],
   "source": [
    "model.intercept_"
   ]
  },
  {
   "cell_type": "code",
   "execution_count": 9,
   "id": "b4b1a61a",
   "metadata": {},
   "outputs": [
    {
     "data": {
      "text/plain": [
       "array([-0.00726205])"
      ]
     },
     "execution_count": 9,
     "metadata": {},
     "output_type": "execute_result"
    }
   ],
   "source": [
    "model.coef_"
   ]
  },
  {
   "cell_type": "code",
   "execution_count": 10,
   "id": "c3ab155c",
   "metadata": {
    "scrolled": true
   },
   "outputs": [
    {
     "data": {
      "text/plain": [
       "0.45375427891826703"
      ]
     },
     "execution_count": 10,
     "metadata": {},
     "output_type": "execute_result"
    }
   ],
   "source": [
    "model.score(np.array(X).reshape(-1,1),y)"
   ]
  },
  {
   "cell_type": "markdown",
   "id": "61b424de",
   "metadata": {},
   "source": [
    "### To Check assumptions of LR"
   ]
  },
  {
   "cell_type": "code",
   "execution_count": 11,
   "id": "730b5879",
   "metadata": {
    "scrolled": false
   },
   "outputs": [
    {
     "data": {
      "text/plain": [
       "<AxesSubplot:xlabel='X3 distance to the nearest MRT station', ylabel='Y house price of unit area'>"
      ]
     },
     "execution_count": 11,
     "metadata": {},
     "output_type": "execute_result"
    },
    {
     "data": {
      "image/png": "[encoded data removed]",
      "text/plain": [
       "<Figure size 842.4x595.44 with 1 Axes>"
      ]
     },
     "metadata": {},
     "output_type": "display_data"
    }
   ],
   "source": [
    "sns.residplot(x = \"X3 distance to the nearest MRT station\",y = \"Y house price of unit area\",data = df)"
   ]
  },
  {
   "cell_type": "markdown",
   "id": "d2dbed4c",
   "metadata": {},
   "source": [
    "## Statsmodel API"
   ]
  },
  {
   "cell_type": "code",
   "execution_count": 12,
   "id": "cdfb36c7",
   "metadata": {},
   "outputs": [],
   "source": [
    "model = sm.OLS(y,np.array(X).reshape(-1,1))"
   ]
  },
  {
   "cell_type": "code",
   "execution_count": 13,
   "id": "64a3a872",
   "metadata": {},
   "outputs": [],
   "source": [
    "results = model.fit()"
   ]
  },
  {
   "cell_type": "code",
   "execution_count": 14,
   "id": "94ced35a",
   "metadata": {},
   "outputs": [
    {
     "name": "stdout",
     "output_type": "stream",
     "text": [
      "                                     OLS Regression Results                                    \n",
      "===============================================================================================\n",
      "Dep. Variable:     Y house price of unit area   R-squared (uncentered):                   0.195\n",
      "Model:                                    OLS   Adj. R-squared (uncentered):              0.193\n",
      "Method:                         Least Squares   F-statistic:                              100.1\n",
      "Date:                        Fri, 29 Apr 2022   Prob (F-statistic):                    2.97e-21\n",
      "Time:                                21:01:49   Log-Likelihood:                         -2073.2\n",
      "No. Observations:                         414   AIC:                                      4148.\n",
      "Df Residuals:                             413   BIC:                                      4152.\n",
      "Df Model:                                   1                                                  \n",
      "Covariance Type:                    nonrobust                                                  \n",
      "==============================================================================\n",
      "                 coef    std err          t      P>|t|      [0.025      0.975]\n",
      "------------------------------------------------------------------------------\n",
      "x1             0.0107      0.001     10.007      0.000       0.009       0.013\n",
      "==============================================================================\n",
      "Omnibus:                       43.560   Durbin-Watson:                   0.889\n",
      "Prob(Omnibus):                  0.000   Jarque-Bera (JB):               55.646\n",
      "Skew:                          -0.802   Prob(JB):                     8.25e-13\n",
      "Kurtosis:                       3.808   Cond. No.                         1.00\n",
      "==============================================================================\n",
      "\n",
      "Notes:\n",
      "[1] R² is computed without centering (uncentered) since the model does not contain a constant.\n",
      "[2] Standard Errors assume that the covariance matrix of the errors is correctly specified.\n"
     ]
    }
   ],
   "source": [
    "print(results.summary())"
   ]
  },
  {
   "cell_type": "markdown",
   "id": "65b69444",
   "metadata": {},
   "source": [
    "## Multiple Linear Regression"
   ]
  },
  {
   "cell_type": "code",
   "execution_count": 15,
   "id": "de9b139d",
   "metadata": {},
   "outputs": [],
   "source": [
    "X = pd.get_dummies(df, columns=['X1 transaction date'], drop_first=True)\n",
    "X=X.drop(['Y house price of unit area'], axis=1)\n",
    "y=df['Y house price of unit area']"
   ]
  },
  {
   "cell_type": "code",
   "execution_count": 16,
   "id": "ae43e819",
   "metadata": {},
   "outputs": [],
   "source": [
    "X_train, X_test, y_train, y_test = train_test_split(X, y, test_size=0.3, random_state=42)"
   ]
  },
  {
   "cell_type": "code",
   "execution_count": 17,
   "id": "f12a370b",
   "metadata": {},
   "outputs": [],
   "source": [
    "model = linear_model.LinearRegression()"
   ]
  },
  {
   "cell_type": "code",
   "execution_count": 18,
   "id": "e1911a34",
   "metadata": {},
   "outputs": [
    {
     "data": {
      "text/plain": [
       "LinearRegression()"
      ]
     },
     "execution_count": 18,
     "metadata": {},
     "output_type": "execute_result"
    }
   ],
   "source": [
    "model.fit(X_train, y_train)"
   ]
  },
  {
   "cell_type": "code",
   "execution_count": 19,
   "id": "dc467129",
   "metadata": {},
   "outputs": [
    {
     "data": {
      "text/plain": [
       "822.2989110545794"
      ]
     },
     "execution_count": 19,
     "metadata": {},
     "output_type": "execute_result"
    }
   ],
   "source": [
    "model.intercept_"
   ]
  },
  {
   "cell_type": "code",
   "execution_count": 20,
   "id": "56d9fa75",
   "metadata": {},
   "outputs": [
    {
     "data": {
      "text/plain": [
       "array([-2.47373373e-01, -4.99444557e-03,  1.10351064e+00,  2.50344724e+02,\n",
       "       -5.78592862e+01,  2.82332322e+00])"
      ]
     },
     "execution_count": 20,
     "metadata": {},
     "output_type": "execute_result"
    }
   ],
   "source": [
    "model.coef_"
   ]
  },
  {
   "cell_type": "code",
   "execution_count": 21,
   "id": "b14780f1",
   "metadata": {},
   "outputs": [
    {
     "data": {
      "text/plain": [
       "0.58061522096528"
      ]
     },
     "execution_count": 21,
     "metadata": {},
     "output_type": "execute_result"
    }
   ],
   "source": [
    "model.score(X_train, y_train)"
   ]
  },
  {
   "cell_type": "code",
   "execution_count": 22,
   "id": "9ece0b96",
   "metadata": {},
   "outputs": [
    {
     "data": {
      "text/plain": [
       "1.0"
      ]
     },
     "execution_count": 22,
     "metadata": {},
     "output_type": "execute_result"
    }
   ],
   "source": [
    "model.score(X_train, model.predict(X_train))"
   ]
  },
  {
   "cell_type": "code",
   "execution_count": 23,
   "id": "9b0641b1",
   "metadata": {},
   "outputs": [
    {
     "data": {
      "text/plain": [
       "0.5703957830624946"
      ]
     },
     "execution_count": 23,
     "metadata": {},
     "output_type": "execute_result"
    }
   ],
   "source": [
    "model.score(X_test, y_test)"
   ]
  },
  {
   "cell_type": "markdown",
   "id": "f40bada5",
   "metadata": {},
   "source": [
    "### To Check assumptions of LR"
   ]
  },
  {
   "cell_type": "code",
   "execution_count": 24,
   "id": "839e7857",
   "metadata": {
    "scrolled": true
   },
   "outputs": [
    {
     "data": {
      "text/plain": [
       "<seaborn.axisgrid.PairGrid at 0x272e9aabd60>"
      ]
     },
     "execution_count": 24,
     "metadata": {},
     "output_type": "execute_result"
    },
    {
     "data": {
      "image/png": "[encoded data removed]",
      "text/plain": [
       "<Figure size 1080x180 with 6 Axes>"
      ]
     },
     "metadata": {},
     "output_type": "display_data"
    }
   ],
   "source": [
    "sns.pairplot(df,x_vars=[\"X1 transaction date\",\"X2 house age\",'X3 distance to the nearest MRT station','X4 number of convenience stores', 'X5 latitude', 'X6 longitude',], y_vars='Y house price of unit area')"
   ]
  },
  {
   "cell_type": "markdown",
   "id": "27177657",
   "metadata": {},
   "source": [
    "## Statsmodel API"
   ]
  },
  {
   "cell_type": "code",
   "execution_count": 25,
   "id": "86cfcc0e",
   "metadata": {},
   "outputs": [],
   "source": [
    "model = sm.OLS(y_train,X_train).fit()"
   ]
  },
  {
   "cell_type": "code",
   "execution_count": 26,
   "id": "a1d1b0be",
   "metadata": {
    "scrolled": false
   },
   "outputs": [
    {
     "name": "stdout",
     "output_type": "stream",
     "text": [
      "                                     OLS Regression Results                                    \n",
      "===============================================================================================\n",
      "Dep. Variable:     Y house price of unit area   R-squared (uncentered):                   0.952\n",
      "Model:                                    OLS   Adj. R-squared (uncentered):              0.951\n",
      "Method:                         Least Squares   F-statistic:                              933.0\n",
      "Date:                        Fri, 29 Apr 2022   Prob (F-statistic):                   3.30e-183\n",
      "Time:                                21:01:50   Log-Likelihood:                         -1043.9\n",
      "No. Observations:                         289   AIC:                                      2100.\n",
      "Df Residuals:                             283   BIC:                                      2122.\n",
      "Df Model:                                   6                                                  \n",
      "Covariance Type:                    nonrobust                                                  \n",
      "==========================================================================================================\n",
      "                                             coef    std err          t      P>|t|      [0.025      0.975]\n",
      "----------------------------------------------------------------------------------------------------------\n",
      "X2 house age                              -0.2472      0.047     -5.249      0.000      -0.340      -0.154\n",
      "X3 distance to the nearest MRT station    -0.0049      0.001     -8.828      0.000      -0.006      -0.004\n",
      "X4 number of convenience stores            1.1044      0.229      4.831      0.000       0.654       1.554\n",
      "X5 latitude                              251.7672     50.479      4.988      0.000     152.406     351.129\n",
      "X6 longitude                             -51.3862     10.371     -4.955      0.000     -71.800     -30.973\n",
      "X1 transaction date_2013                   2.8144      1.180      2.386      0.018       0.492       5.136\n",
      "==============================================================================\n",
      "Omnibus:                      205.380   Durbin-Watson:                   2.032\n",
      "Prob(Omnibus):                  0.000   Jarque-Bera (JB):             3714.204\n",
      "Skew:                           2.612   Prob(JB):                         0.00\n",
      "Kurtosis:                      19.767   Cond. No.                     1.59e+05\n",
      "==============================================================================\n",
      "\n",
      "Notes:\n",
      "[1] R² is computed without centering (uncentered) since the model does not contain a constant.\n",
      "[2] Standard Errors assume that the covariance matrix of the errors is correctly specified.\n",
      "[3] The condition number is large, 1.59e+05. This might indicate that there are\n",
      "strong multicollinearity or other numerical problems.\n"
     ]
    }
   ],
   "source": [
    "print(model.summary())"
   ]
  },
  {
   "cell_type": "code",
   "execution_count": 27,
   "id": "a8ca706d",
   "metadata": {},
   "outputs": [
    {
     "name": "stdout",
     "output_type": "stream",
     "text": [
      "Parameters:  X2 house age                               -0.247182\n",
      "X3 distance to the nearest MRT station     -0.004921\n",
      "X4 number of convenience stores             1.104390\n",
      "X5 latitude                               251.767200\n",
      "X6 longitude                              -51.386164\n",
      "X1 transaction date_2013                    2.814351\n",
      "dtype: float64\n",
      "R2:  0.9518779242382591\n"
     ]
    }
   ],
   "source": [
    "print(\"Parameters: \", model.params)\n",
    "print(\"R2: \", model.rsquared)"
   ]
  }
 ],
 "metadata": {
  "kernelspec": {
   "display_name": "Python 3 (ipykernel)",
   "language": "python",
   "name": "python3"
  },
  "language_info": {
   "codemirror_mode": {
    "name": "ipython",
    "version": 3
   },
   "file_extension": ".py",
   "mimetype": "text/x-python",
   "name": "python",
   "nbconvert_exporter": "python",
   "pygments_lexer": "ipython3",
   "version": "3.8.8"
  }
 },
 "nbformat": 4,
 "nbformat_minor": 5
}
